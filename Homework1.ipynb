{
 "cells": [
  {
   "cell_type": "markdown",
   "metadata": {},
   "source": [
    "# CSCI E-82A\n",
    "## Homework assignment 1\n",
    "\n",
    "> **Note:** To solve the problems in this exercise, compute the probabilities using Bayes' theorem. In subsequent exercises, you will use more computationally efficient and easier to formulate graphical models. \n",
    "\n",
    "## Scenario\n",
    "\n",
    "Inspector Andrea Markov receives a call that Lord Fauntleroy has been murdered in his manor house. She is told that only the cook and butler were present in the house at the time of the crime and that there is no evidence of an intruder. Further, she learns that the only possible murder weapons are a knife and poison. \n",
    "\n",
    "Before leaving the police station the Inspector instructs Sargent Bernoulli to gather information on the outcomes of similar murder investigations. She tells the Sargent that it is entirely possible that both the maid and the cook could have worked together. Since the cook and the butler could have acted alone or together, we will assume independence: $p(C,B) = p(C)p(B)$  \n",
    "\n",
    "From the available data Bernoulli is able to construct the following tables for the probabilities that the cook, $C$, or butler, $B$ is responsible for the murder. "
   ]
  },
  {
   "cell_type": "code",
   "execution_count": 2,
   "metadata": {
    "collapsed": false
   },
   "outputs": [
    {
     "name": "stdout",
     "output_type": "stream",
     "text": [
      "    C0   C1\n",
      "I  0.7  0.3\n",
      " \n",
      "    B0   B1\n",
      "I  0.4  0.6\n"
     ]
    }
   ],
   "source": [
    "import pandas as pd\n",
    "import numpy as np\n",
    "\n",
    "C = pd.DataFrame({'I':[0.7,0.3]}, index = ['C0','C1'])\n",
    "print(C.transpose())\n",
    "print(' ')\n",
    "B = pd.DataFrame({'I':[0.4,0.6]}, index = ['B0','B1'])\n",
    "print(B.transpose())"
   ]
  },
  {
   "cell_type": "code",
   "execution_count": 15,
   "metadata": {
    "collapsed": false
   },
   "outputs": [
    {
     "data": {
      "text/html": [
       "<div>\n",
       "<style scoped>\n",
       "    .dataframe tbody tr th:only-of-type {\n",
       "        vertical-align: middle;\n",
       "    }\n",
       "\n",
       "    .dataframe tbody tr th {\n",
       "        vertical-align: top;\n",
       "    }\n",
       "\n",
       "    .dataframe thead th {\n",
       "        text-align: right;\n",
       "    }\n",
       "</style>\n",
       "<table border=\"1\" class=\"dataframe\">\n",
       "  <thead>\n",
       "    <tr style=\"text-align: right;\">\n",
       "      <th></th>\n",
       "      <th>0</th>\n",
       "    </tr>\n",
       "  </thead>\n",
       "  <tbody>\n",
       "    <tr>\n",
       "      <th>C</th>\n",
       "      <td>0.30</td>\n",
       "    </tr>\n",
       "    <tr>\n",
       "      <th>B</th>\n",
       "      <td>0.60</td>\n",
       "    </tr>\n",
       "    <tr>\n",
       "      <th>C_B</th>\n",
       "      <td>0.18</td>\n",
       "    </tr>\n",
       "  </tbody>\n",
       "</table>\n",
       "</div>"
      ],
      "text/plain": [
       "        0\n",
       "C    0.30\n",
       "B    0.60\n",
       "C_B  0.18"
      ]
     },
     "execution_count": 15,
     "metadata": {},
     "output_type": "execute_result"
    }
   ],
   "source": [
    "p_C = C.iloc[1]\n",
    "p_B = B.iloc[1]\n",
    "p_C_B = p_C*p_B\n",
    "\n",
    "p_suspects = pd.DataFrame([p_C[0], p_B[0], p_C_B[0]], index = ['C','B', 'C_B'])\n",
    "p_suspects"
   ]
  },
  {
   "cell_type": "markdown",
   "metadata": {},
   "source": [
    "Sargent Bernoulli also discovers that cooks use poison, $P$, or knifes, $K$ with equal probability, whereas butlers favor knifes. Keeping in mind that the suspects could have acted together, he constructs the following table:"
   ]
  },
  {
   "cell_type": "code",
   "execution_count": 11,
   "metadata": {
    "collapsed": true
   },
   "outputs": [],
   "source": [
    "def compute_probabilities(W):\n",
    "    W = W.transpose()\n",
    "\n",
    "    conditional_prob_df = pd.DataFrame(W['K'].values * p_suspects[0])\n",
    "    conditional_prob_df['K'] = pd.DataFrame(W['K'].values * p_suspects[0])\n",
    "    conditional_prob_df['P'] = W['P'].values * p_suspects[0]\n",
    "    conditional_prob_df.pop(0)\n",
    "    conditional_prob_df['idx'] = ['C', 'B', 'C_B']\n",
    "    conditional_prob_df.index = conditional_prob_df.pop('idx')\n",
    "\n",
    "    updated_cp = conditional_prob_df/conditional_prob_df.sum()\n",
    "\n",
    "    marginal_cp = updated_cp/updated_cp.sum().sum()\n",
    "    print(marginal_cp.sum(axis=1))"
   ]
  },
  {
   "cell_type": "code",
   "execution_count": 30,
   "metadata": {
    "collapsed": false
   },
   "outputs": [],
   "source": [
    "W  = W.transpose()"
   ]
  },
  {
   "cell_type": "code",
   "execution_count": 17,
   "metadata": {
    "collapsed": false
   },
   "outputs": [
    {
     "data": {
      "text/html": [
       "<div>\n",
       "<style scoped>\n",
       "    .dataframe tbody tr th:only-of-type {\n",
       "        vertical-align: middle;\n",
       "    }\n",
       "\n",
       "    .dataframe tbody tr th {\n",
       "        vertical-align: top;\n",
       "    }\n",
       "\n",
       "    .dataframe thead th {\n",
       "        text-align: right;\n",
       "    }\n",
       "</style>\n",
       "<table border=\"1\" class=\"dataframe\">\n",
       "  <thead>\n",
       "    <tr style=\"text-align: right;\">\n",
       "      <th></th>\n",
       "      <th>0</th>\n",
       "    </tr>\n",
       "  </thead>\n",
       "  <tbody>\n",
       "    <tr>\n",
       "      <th>C</th>\n",
       "      <td>0.30</td>\n",
       "    </tr>\n",
       "    <tr>\n",
       "      <th>B</th>\n",
       "      <td>0.60</td>\n",
       "    </tr>\n",
       "    <tr>\n",
       "      <th>C_B</th>\n",
       "      <td>0.18</td>\n",
       "    </tr>\n",
       "  </tbody>\n",
       "</table>\n",
       "</div>"
      ],
      "text/plain": [
       "        0\n",
       "C    0.30\n",
       "B    0.60\n",
       "C_B  0.18"
      ]
     },
     "execution_count": 17,
     "metadata": {},
     "output_type": "execute_result"
    }
   ],
   "source": [
    "p_suspects"
   ]
  },
  {
   "cell_type": "code",
   "execution_count": 43,
   "metadata": {
    "collapsed": false
   },
   "outputs": [
    {
     "data": {
      "text/html": [
       "<div>\n",
       "<style scoped>\n",
       "    .dataframe tbody tr th:only-of-type {\n",
       "        vertical-align: middle;\n",
       "    }\n",
       "\n",
       "    .dataframe tbody tr th {\n",
       "        vertical-align: top;\n",
       "    }\n",
       "\n",
       "    .dataframe thead th {\n",
       "        text-align: right;\n",
       "    }\n",
       "</style>\n",
       "<table border=\"1\" class=\"dataframe\">\n",
       "  <thead>\n",
       "    <tr style=\"text-align: right;\">\n",
       "      <th></th>\n",
       "      <th>P</th>\n",
       "      <th>K</th>\n",
       "      <th>marginal</th>\n",
       "    </tr>\n",
       "  </thead>\n",
       "  <tbody>\n",
       "    <tr>\n",
       "      <th>C</th>\n",
       "      <td>0.150</td>\n",
       "      <td>0.150</td>\n",
       "      <td>0.277778</td>\n",
       "    </tr>\n",
       "    <tr>\n",
       "      <th>B</th>\n",
       "      <td>0.180</td>\n",
       "      <td>0.420</td>\n",
       "      <td>0.555556</td>\n",
       "    </tr>\n",
       "    <tr>\n",
       "      <th>C_B</th>\n",
       "      <td>0.072</td>\n",
       "      <td>0.108</td>\n",
       "      <td>0.166667</td>\n",
       "    </tr>\n",
       "  </tbody>\n",
       "</table>\n",
       "</div>"
      ],
      "text/plain": [
       "         P      K  marginal\n",
       "C    0.150  0.150  0.277778\n",
       "B    0.180  0.420  0.555556\n",
       "C_B  0.072  0.108  0.166667"
      ]
     },
     "execution_count": 43,
     "metadata": {},
     "output_type": "execute_result"
    }
   ],
   "source": [
    "mp = pd.DataFrame()\n",
    "mp['P'] = W['P'] * p_suspects[0]\n",
    "mp['K'] = W['K'] * p_suspects[0]\n",
    "\n",
    "mp['marginal'] = mp.sum(axis=1)/mp.sum(axis=1).sum()\n",
    "mp"
   ]
  },
  {
   "cell_type": "code",
   "execution_count": 13,
   "metadata": {
    "collapsed": false
   },
   "outputs": [
    {
     "name": "stdout",
     "output_type": "stream",
     "text": [
      "idx\n",
      "C      0.297187\n",
      "B      0.533615\n",
      "C_B    0.169198\n",
      "dtype: float64\n"
     ]
    }
   ],
   "source": [
    "W = pd.DataFrame({'P':[0.5,0.3,0.4],'K':[0.5,0.7,0.6]}, index = ['C','B', 'C_B']).transpose()\n",
    "\n",
    "compute_probabilities(W)"
   ]
  },
  {
   "cell_type": "markdown",
   "metadata": {},
   "source": [
    "Given this prior information, Inspector Markov can compute the prior probabilities that the cook or the butler committed the crime, given the type of weapon used. \n",
    "\n",
    "In the cell below, compute the prior probabilities that the cook or the butler committed the crime with each of the possible weapons (you may want to add code cells to separate the steps of your calculation). \n",
    "\n",
    "> **Hint 1:** Use Bayes' theorem to find the probabilities $p(B|K)$, $p(B|P)$, $p(C|K)$ and $p(C|P)$. Since the suspects may have worked together, the sum of these probabilities will be greater than 1.0.    \n",
    "> **Hint 2:** Computing the numerators is relatively straight forward. For the denominator there are 8 possible cases. However two cases can be eliminated, since there are only two suspects $P( \\urcorner C \\wedge  \\urcorner B) = 0$, where $ \\urcorner$ is the logical not operator and $\\wedge$ is the logical and. "
   ]
  },
  {
   "cell_type": "code",
   "execution_count": null,
   "metadata": {
    "collapsed": true
   },
   "outputs": [],
   "source": [
    "pr_BK = .5*.6\n",
    "pr_CK = .5*.3"
   ]
  },
  {
   "cell_type": "markdown",
   "metadata": {},
   "source": [
    "What the Inspector really wants to know is the prior probability that each of the suspects in guilty, regardless of the weapon used. In the cell below, compute the probability each suspect is guilty by summing over the possible weapons. "
   ]
  },
  {
   "cell_type": "code",
   "execution_count": null,
   "metadata": {
    "collapsed": true
   },
   "outputs": [],
   "source": []
  },
  {
   "cell_type": "markdown",
   "metadata": {},
   "source": [
    "From these prior probabilities it seems that the Inspector should focus her investigation on the more likely suspect. Which suspect is that? "
   ]
  },
  {
   "cell_type": "markdown",
   "metadata": {},
   "source": [
    "ANS: Cook."
   ]
  },
  {
   "cell_type": "markdown",
   "metadata": {},
   "source": [
    "## Adding evidence\n",
    "\n",
    "Upon arriving at the crime scene, Inspector Markov finds that Doctor Turing has already examined the body. The Doctor tells Markov that she is completely convinced that a knife wound is the cause of death, and has found no sign of poisoning. Given this new evidence, the Inspector must update her belief in which suspect is most likely to have committed the crime. \n",
    "\n",
    "In the cell below, compute the probabilities that either the butler or the cook has committed the crime. In other words, compute the probabilities for the case where $p(Poison) = 0$.\n",
    "\n",
    "> **Note:** Once again the probabilities will not add to 1.0 since the suspects may have collaborated in the murder. "
   ]
  },
  {
   "cell_type": "code",
   "execution_count": 7,
   "metadata": {
    "collapsed": false
   },
   "outputs": [
    {
     "name": "stdout",
     "output_type": "stream",
     "text": [
      "idx\n",
      "C      0.221239\n",
      "B      0.619469\n",
      "C_B    0.159292\n",
      "dtype: float64\n"
     ]
    }
   ],
   "source": [
    "W = pd.DataFrame({'P':[0.0,0.0,0.0],'K':[0.5,0.7,0.6]}, index = ['C','B', 'C_B']).transpose()\n",
    "\n",
    "compute_probabilities(W)"
   ]
  },
  {
   "cell_type": "markdown",
   "metadata": {},
   "source": [
    "In the cell below compare the updated probabilities that each suspect is guilty to the prior belief that Inspector Markov had before obtaining the additional evidence. How can you best explain this change?"
   ]
  },
  {
   "cell_type": "markdown",
   "metadata": {},
   "source": [
    "ANS: "
   ]
  }
 ],
 "metadata": {
  "kernelspec": {
   "display_name": "Python 3",
   "language": "python",
   "name": "python3"
  },
  "language_info": {
   "codemirror_mode": {
    "name": "ipython",
    "version": 3
   },
   "file_extension": ".py",
   "mimetype": "text/x-python",
   "name": "python",
   "nbconvert_exporter": "python",
   "pygments_lexer": "ipython3",
   "version": "3.6.3"
  }
 },
 "nbformat": 4,
 "nbformat_minor": 2
}
